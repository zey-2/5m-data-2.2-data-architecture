{
 "cells": [
  {
   "cell_type": "markdown",
   "id": "e7da89c3",
   "metadata": {},
   "source": [
    "# Assignment\n",
    "\n",
    "## Brief\n",
    "\n",
    "Write the Python codes for the following questions.\n",
    "\n",
    "## Instructions\n",
    "\n",
    "Paste the answer as Python in the answer code section below each question."
   ]
  },
  {
   "cell_type": "markdown",
   "id": "2cfe34c5",
   "metadata": {},
   "source": [
    "### Question 1\n",
    "\n",
    "Question: How would you create a new hash in Redis to store information about a person, with `john_doe` as the key and include the name (`John Doe`), age (`35`), and email address (`john@email.com`)?"
   ]
  },
  {
   "cell_type": "code",
   "execution_count": 4,
   "id": "cfdbf8ba",
   "metadata": {},
   "outputs": [
    {
     "name": "stdout",
     "output_type": "stream",
     "text": [
      "bar\n"
     ]
    }
   ],
   "source": [
    "import redis\n",
    "\n",
    "r = redis.Redis(\n",
    "    host='redis-18225.c11.us-east-1-3.ec2.redns.redis-cloud.com',\n",
    "    port=18225,\n",
    "    decode_responses=True,\n",
    "    username=\"default\",\n",
    "    password=\"HCQDD8aVXji5lc7HXT7Chs2GTWgrfrQG\",\n",
    ")\n",
    "\n",
    "success = r.set('foo', 'bar')\n",
    "# True\n",
    "\n",
    "result = r.get('foo')\n",
    "print(result)"
   ]
  },
  {
   "cell_type": "markdown",
   "id": "08197fc3",
   "metadata": {},
   "source": [
    "Answer:"
   ]
  },
  {
   "cell_type": "code",
   "execution_count": 5,
   "id": "3f46f915",
   "metadata": {},
   "outputs": [
    {
     "data": {
      "text/plain": [
       "3"
      ]
     },
     "execution_count": 5,
     "metadata": {},
     "output_type": "execute_result"
    }
   ],
   "source": [
    "r.hset(\n",
    "    'john_doe',\n",
    "    mapping={\n",
    "        \"name\": \"John Doe\",\n",
    "        \"age\": 35,\n",
    "        \"email\": \"john@mail.com\",\n",
    "    },\n",
    ")"
   ]
  },
  {
   "cell_type": "code",
   "execution_count": 6,
   "id": "03378265",
   "metadata": {},
   "outputs": [
    {
     "data": {
      "text/plain": [
       "{'name': 'John Doe', 'age': '35', 'email': 'john@mail.com'}"
      ]
     },
     "execution_count": 6,
     "metadata": {},
     "output_type": "execute_result"
    }
   ],
   "source": [
    "r.hgetall('john_doe')"
   ]
  },
  {
   "cell_type": "markdown",
   "id": "47be6cb5",
   "metadata": {},
   "source": [
    "### Question 2\n",
    "\n",
    "Question: Write Python code to list the first 10 objects (blob name) in the \"gcp-public-data-landsat\" bucket, along with their sizes."
   ]
  },
  {
   "cell_type": "code",
   "execution_count": 7,
   "id": "bfbe9ce6",
   "metadata": {},
   "outputs": [],
   "source": [
    "from google.cloud import storage\n",
    "\n",
    "client = storage.Client()\n",
    "bucket = client.get_bucket(\"gcp-public-data-landsat\")"
   ]
  },
  {
   "cell_type": "markdown",
   "id": "ca2702d0",
   "metadata": {},
   "source": [
    "Answer:"
   ]
  },
  {
   "cell_type": "code",
   "execution_count": null,
   "id": "655ec5cd",
   "metadata": {},
   "outputs": [
    {
     "name": "stdout",
     "output_type": "stream",
     "text": [
      "Blobs in gcp-public-data-landsat:\n",
      "Object 0 name: LC08/01/001/002/LC08_L1GT_001002_20160817_20170322_01_T2/LC08_L1GT_001002_20160817_20170322_01_T2_ANG.txt\n",
      "size: 0.11 MB\n",
      "\n",
      "Object 1 name: LC08/01/001/002/LC08_L1GT_001002_20160817_20170322_01_T2/LC08_L1GT_001002_20160817_20170322_01_T2_B1.TIF\n",
      "size: 71.61 MB\n",
      "\n",
      "Object 2 name: LC08/01/001/002/LC08_L1GT_001002_20160817_20170322_01_T2/LC08_L1GT_001002_20160817_20170322_01_T2_B10.TIF\n",
      "size: 38.73 MB\n",
      "\n",
      "Object 3 name: LC08/01/001/002/LC08_L1GT_001002_20160817_20170322_01_T2/LC08_L1GT_001002_20160817_20170322_01_T2_B11.TIF\n",
      "size: 37.45 MB\n",
      "\n",
      "Object 4 name: LC08/01/001/002/LC08_L1GT_001002_20160817_20170322_01_T2/LC08_L1GT_001002_20160817_20170322_01_T2_B2.TIF\n",
      "size: 72.73 MB\n",
      "\n",
      "Object 5 name: LC08/01/001/002/LC08_L1GT_001002_20160817_20170322_01_T2/LC08_L1GT_001002_20160817_20170322_01_T2_B3.TIF\n",
      "size: 73.26 MB\n",
      "\n",
      "Object 6 name: LC08/01/001/002/LC08_L1GT_001002_20160817_20170322_01_T2/LC08_L1GT_001002_20160817_20170322_01_T2_B4.TIF\n",
      "size: 74.87 MB\n",
      "\n",
      "Object 7 name: LC08/01/001/002/LC08_L1GT_001002_20160817_20170322_01_T2/LC08_L1GT_001002_20160817_20170322_01_T2_B5.TIF\n",
      "size: 76.62 MB\n",
      "\n",
      "Object 8 name: LC08/01/001/002/LC08_L1GT_001002_20160817_20170322_01_T2/LC08_L1GT_001002_20160817_20170322_01_T2_B6.TIF\n",
      "size: 72.88 MB\n",
      "\n",
      "Object 9 name: LC08/01/001/002/LC08_L1GT_001002_20160817_20170322_01_T2/LC08_L1GT_001002_20160817_20170322_01_T2_B7.TIF\n",
      "size: 70.47 MB\n",
      "\n",
      "Object 10 name: LC08/01/001/002/LC08_L1GT_001002_20160817_20170322_01_T2/LC08_L1GT_001002_20160817_20170322_01_T2_B8.TIF\n",
      "size: 278.72 MB\n",
      "\n"
     ]
    }
   ],
   "source": [
    "blobs = bucket.list_blobs()\n",
    "\n",
    "print(\"Blobs in {}:\".format(bucket.name))\n",
    "for ix, item in enumerate(blobs):\n",
    "    print(f\"Object {ix} name: {item.name}\")\n",
    "    print(f\"size: {item.size/1024/1024:.2f} MB\")\n",
    "    print()\n",
    "    if ix == 9: # Limit to first 10 objects\n",
    "        break"
   ]
  },
  {
   "cell_type": "markdown",
   "id": "a4856b9a",
   "metadata": {},
   "source": [
    "## Submission\n",
    "\n",
    "- Submit the URL of the GitHub Repository that contains your work to NTU black board.\n",
    "- Should you reference the work of your classmate(s) or online resources, give them credit by adding either the name of your classmate or URL."
   ]
  }
 ],
 "metadata": {
  "kernelspec": {
   "display_name": "bde",
   "language": "python",
   "name": "python3"
  },
  "language_info": {
   "codemirror_mode": {
    "name": "ipython",
    "version": 3
   },
   "file_extension": ".py",
   "mimetype": "text/x-python",
   "name": "python",
   "nbconvert_exporter": "python",
   "pygments_lexer": "ipython3",
   "version": "3.10.13"
  }
 },
 "nbformat": 4,
 "nbformat_minor": 5
}
