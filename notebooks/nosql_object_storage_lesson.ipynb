{
 "cells": [
  {
   "cell_type": "markdown",
   "metadata": {},
   "source": [
    "# Introduction to NoSQL and Object Storage.\n",
    "\n",
    "This lesson walks through the create and read operations on `redis`. We will also fetch data from `google cloud storage`."
   ]
  },
  {
   "cell_type": "markdown",
   "metadata": {},
   "source": [
    "## Redis\n",
    "\n",
    "Redis is an in-memory data structure store, used as a database, cache and message broker. It supports data structures such as strings, hashes, lists, sets, sorted sets with range queries, bitmaps, hyperloglogs and geospatial indexes with radius queries.\n",
    "\n",
    "We will be connecting to a redis database hosted on Redis Labs. Redis Labs is a cloud database service that allows you to host redis databases on the cloud.\n",
    "\n",
    "Prerequisite: The learner is requested to set up an account on Redis [here](https://redis.io/) and set up a (free tier) cluster. \n",
    "\n",
    "If you need some guides, please refer to the screenshots below:\n",
    "\n",
    "[Step 1](../assets/redis_create_db_step1.png)  (create database)\n",
    "\n",
    "[Step 2](../assets/redis_create_db_step2.png)  (choose free cluster)\n",
    "\n",
    "[Step 3](../assets/redis_create_db_step3.png)  (click 'connect' to get connect instructions)\n",
    "\n",
    "[Step 4](../assets/redis_create_db_step4.png)  (choose 'Redis Client' - 'Python')\n",
    "\n",
    "[Step 5](../assets/redis_create_db_step5.png) (copy and paste the python code into a cell below)\n",
    "\n",
    "We will be using the `redis-py` library to connect to the redis database"
   ]
  },
  {
   "cell_type": "code",
   "execution_count": 1,
   "metadata": {},
   "outputs": [
    {
     "name": "stdout",
     "output_type": "stream",
     "text": [
      "bar\n"
     ]
    }
   ],
   "source": [
    "\"\"\"Basic connection example.\n",
    "\"\"\"\n",
    "\n",
    "import redis\n",
    "\n",
    "r = redis.Redis(\n",
    "    host='redis-18225.c11.us-east-1-3.ec2.redns.redis-cloud.com',\n",
    "    port=18225,\n",
    "    decode_responses=True,\n",
    "    username=\"default\",\n",
    "    password=\"HCQDD8aVXji5lc7HXT7Chs2GTWgrfrQG\",\n",
    ")\n",
    "\n",
    "success = r.set('foo', 'bar')\n",
    "# True\n",
    "\n",
    "result = r.get('foo')\n",
    "print(result)\n",
    "# >>> bar\n",
    "\n",
    "\n",
    "\n",
    "\n",
    "# # Either use the code provided from Step 5 above or the code below to connect to your Redis database.\n",
    "# # Make sure to replace <REDIS-URL> and <YOUR-PASSWORD> with your actual Redis database URL and password.\n",
    "# # If you are using the code from Step5, you can skip this section.\n",
    "# import redis\n",
    "\n",
    "# r = redis.Redis(\n",
    "#   host='redis-18225.c11.us-east-1-3.ec2.redns.redis-cloud.com:18225', # E.g.'redis-10908.c252.ap-southeast-1-1.ec2.cloud.redislabs.com'\n",
    "#   port=18225,\n",
    "#   password='HCQDD8aVXji5lc7HXT7Chs2GTWgrfrQG' \n",
    "# )"
   ]
  },
  {
   "cell_type": "markdown",
   "metadata": {},
   "source": [
    "A Redis database holds `key:value pairs` and supports commands such as GET, SET, and DEL, as well as several hundred additional commands.\n",
    "\n",
    "- Redis keys are always strings.\n",
    "- Redis values may be a number of different data types. Some of the more essential value data types are- string, list, hashes, and sets. Some advanced types include geospatial items and stream.\n",
    "\n",
    "Many Redis commands operate in constant O(1) time, just like retrieving a value from a Python dict or any hash table.\n",
    "\n",
    "Let's create a new key called `'name'` with the value `'Aaron'`."
   ]
  },
  {
   "cell_type": "code",
   "execution_count": 2,
   "metadata": {},
   "outputs": [
    {
     "data": {
      "text/plain": [
       "True"
      ]
     },
     "execution_count": 2,
     "metadata": {},
     "output_type": "execute_result"
    }
   ],
   "source": [
    "r.set('name', 'Aaron')"
   ]
  },
  {
   "cell_type": "markdown",
   "metadata": {},
   "source": [
    "Read the value of the key `'name'`:"
   ]
  },
  {
   "cell_type": "code",
   "execution_count": 3,
   "metadata": {},
   "outputs": [
    {
     "data": {
      "text/plain": [
       "'Aaron'"
      ]
     },
     "execution_count": 3,
     "metadata": {},
     "output_type": "execute_result"
    }
   ],
   "source": [
    "r.get('name')"
   ]
  },
  {
   "cell_type": "markdown",
   "metadata": {},
   "source": [
    "We can update the value with `.set` too:"
   ]
  },
  {
   "cell_type": "code",
   "execution_count": 4,
   "metadata": {},
   "outputs": [
    {
     "data": {
      "text/plain": [
       "True"
      ]
     },
     "execution_count": 4,
     "metadata": {},
     "output_type": "execute_result"
    }
   ],
   "source": [
    "r.set('name', 'Bob')"
   ]
  },
  {
   "cell_type": "code",
   "execution_count": 5,
   "metadata": {},
   "outputs": [
    {
     "data": {
      "text/plain": [
       "'Bob'"
      ]
     },
     "execution_count": 5,
     "metadata": {},
     "output_type": "execute_result"
    }
   ],
   "source": [
    "r.get('name')"
   ]
  },
  {
   "cell_type": "markdown",
   "metadata": {},
   "source": [
    "> Set a key `age` with value of `20`.\n",
    ">\n",
    "> Then read the value."
   ]
  },
  {
   "cell_type": "code",
   "execution_count": 6,
   "metadata": {},
   "outputs": [
    {
     "data": {
      "text/plain": [
       "True"
      ]
     },
     "execution_count": 6,
     "metadata": {},
     "output_type": "execute_result"
    }
   ],
   "source": [
    "r.set('age', 20)"
   ]
  },
  {
   "cell_type": "markdown",
   "metadata": {},
   "source": [
    "To push a list, you need to use `rpush`:"
   ]
  },
  {
   "cell_type": "code",
   "execution_count": 7,
   "metadata": {},
   "outputs": [
    {
     "data": {
      "text/plain": [
       "3"
      ]
     },
     "execution_count": 7,
     "metadata": {},
     "output_type": "execute_result"
    }
   ],
   "source": [
    "r.rpush(\"names\", \"Aaron\", \"Bob\", \"Charlie\")"
   ]
  },
  {
   "cell_type": "code",
   "execution_count": 8,
   "metadata": {},
   "outputs": [
    {
     "data": {
      "text/plain": [
       "'Bob'"
      ]
     },
     "execution_count": 8,
     "metadata": {},
     "output_type": "execute_result"
    }
   ],
   "source": [
    "r.lindex(\"names\", 1)"
   ]
  },
  {
   "cell_type": "markdown",
   "metadata": {},
   "source": [
    "You can use `mset` to set multiple keys at once."
   ]
  },
  {
   "cell_type": "code",
   "execution_count": 9,
   "metadata": {},
   "outputs": [
    {
     "data": {
      "text/plain": [
       "True"
      ]
     },
     "execution_count": 9,
     "metadata": {},
     "output_type": "execute_result"
    }
   ],
   "source": [
    "r.mset({\n",
    "    \"name\": \"John\",\n",
    "    \"age\": 30,\n",
    "})"
   ]
  },
  {
   "cell_type": "code",
   "execution_count": 10,
   "metadata": {},
   "outputs": [
    {
     "data": {
      "text/plain": [
       "['John', '30']"
      ]
     },
     "execution_count": 10,
     "metadata": {},
     "output_type": "execute_result"
    }
   ],
   "source": [
    "r.mget(\"name\", \"age\")"
   ]
  },
  {
   "cell_type": "markdown",
   "metadata": {},
   "source": [
    "Redis `hashes` are record types structured as collections of field-value pairs. You can use hashes to represent basic objects.\n",
    "\n",
    "```python\n",
    "# Create a new hash with my name as the key\n",
    "r.hset(\n",
    "    'zane lim',\n",
    "    mapping={\n",
    "        \"age\": 21,\n",
    "        \"email\": \"zl@gmail.com\",\n",
    "        \"hobby\": \"coding\",\n",
    "    },\n",
    ")\n",
    "```\n",
    "\n",
    "Then get the hash nested value back:\n"
   ]
  },
  {
   "cell_type": "code",
   "execution_count": 11,
   "metadata": {},
   "outputs": [
    {
     "data": {
      "text/plain": [
       "3"
      ]
     },
     "execution_count": 11,
     "metadata": {},
     "output_type": "execute_result"
    }
   ],
   "source": [
    "r.hset(\n",
    "    'zane lim',\n",
    "    mapping={\n",
    "        \"age\": 21,\n",
    "        \"email\": \"zl@gmail.com\",\n",
    "        \"hobby\": \"coding\",\n",
    "    },\n",
    ")"
   ]
  },
  {
   "cell_type": "code",
   "execution_count": 12,
   "metadata": {},
   "outputs": [
    {
     "data": {
      "text/plain": [
       "'zl@gmail.com'"
      ]
     },
     "execution_count": 12,
     "metadata": {},
     "output_type": "execute_result"
    }
   ],
   "source": [
    "r.hget(\"zane lim\", \"email\")"
   ]
  },
  {
   "cell_type": "markdown",
   "metadata": {},
   "source": [
    "Get the object back as a dictionary:"
   ]
  },
  {
   "cell_type": "code",
   "execution_count": 13,
   "metadata": {},
   "outputs": [
    {
     "data": {
      "text/plain": [
       "{'age': '21', 'email': 'zl@gmail.com', 'hobby': 'coding'}"
      ]
     },
     "execution_count": 13,
     "metadata": {},
     "output_type": "execute_result"
    }
   ],
   "source": [
    "r.hgetall(\"zane lim\")"
   ]
  },
  {
   "cell_type": "markdown",
   "metadata": {},
   "source": [
    "> Create a new hash with your name as the key, and a mapping of `age`, `email`, `hobby`."
   ]
  },
  {
   "cell_type": "code",
   "execution_count": 14,
   "metadata": {},
   "outputs": [
    {
     "data": {
      "text/plain": [
       "3"
      ]
     },
     "execution_count": 14,
     "metadata": {},
     "output_type": "execute_result"
    }
   ],
   "source": [
    "r.hset(\n",
    "    'zh lim',\n",
    "    mapping={\n",
    "        \"age\": 31,\n",
    "        \"email\": \"tzl@gmail.com\",\n",
    "        \"hobby\": \"vibe coding\",\n",
    "    },\n",
    ")"
   ]
  },
  {
   "cell_type": "markdown",
   "metadata": {},
   "source": [
    "Always a good practice to shutdown your Redis cluster if not going to be used in future. Click into your DB and hit `Delete`. See this [screenshot](../assets/redis_terminate_db.png) for a guide."
   ]
  },
  {
   "cell_type": "markdown",
   "metadata": {},
   "source": [
    "## Google Cloud Storage\n",
    "\n",
    "Google Cloud Storage is an Object Storage service in Google Cloud.\n",
    "\n",
    "### Bucket\n",
    "- A bucket is a container for objects stored in Google Cloud Storage.\n",
    "- Every object is contained in a bucket.\n",
    "- Each bucket is associated with a project.\n",
    "- A bucket has a unique name across all of Google Cloud Storage.\n",
    "\n",
    "### Object\n",
    "- An object is a piece of data, such as a file, that is stored in Google Cloud Storage.\n",
    "- An object is also called a `blob` (binary large object) in Google Cloud Storage. \n",
    "- An object is composed of the object's data and its metadata. \n",
    "- Metadata is a collection of name-value pairs that describe the object. You can use metadata to search for objects.\n",
    "\n",
    "We will be using the `google-cloud-storage` python library to fetch data from the public [Landsat Collection 1](https://console.cloud.google.com/storage/browser/gcp-public-data-landsat;tab=objects?prefix=&forceOnObjectsSortingFiltering=false) dataset demonstrated just now."
   ]
  },
  {
   "cell_type": "code",
   "execution_count": 17,
   "metadata": {},
   "outputs": [],
   "source": [
    "from google.cloud import storage"
   ]
  },
  {
   "cell_type": "code",
   "execution_count": 18,
   "metadata": {},
   "outputs": [],
   "source": [
    "client = storage.Client()"
   ]
  },
  {
   "cell_type": "code",
   "execution_count": 19,
   "metadata": {},
   "outputs": [],
   "source": [
    "bucket = client.get_bucket('gcp-public-data-landsat')"
   ]
  },
  {
   "cell_type": "markdown",
   "metadata": {},
   "source": [
    "Note that you need to do `gcloud auth application-default login` to run the cell above. \n",
    "\n",
    "If the error persists, you may also need to restart the kernel (in VSCode, click the `Restart` button)."
   ]
  },
  {
   "cell_type": "markdown",
   "metadata": {},
   "source": [
    "Get bucket metadata:"
   ]
  },
  {
   "cell_type": "code",
   "execution_count": 20,
   "metadata": {},
   "outputs": [
    {
     "name": "stdout",
     "output_type": "stream",
     "text": [
      "Bucket name: gcp-public-data-landsat\n",
      "Bucket location: US\n",
      "Bucket storage class: STANDARD\n"
     ]
    }
   ],
   "source": [
    "print(\"Bucket name: {}\".format(bucket.name))\n",
    "print(\"Bucket location: {}\".format(bucket.location))\n",
    "print(\"Bucket storage class: {}\".format(bucket.storage_class))"
   ]
  },
  {
   "cell_type": "markdown",
   "metadata": {},
   "source": [
    "List blobs in a bucket:"
   ]
  },
  {
   "cell_type": "code",
   "execution_count": 21,
   "metadata": {},
   "outputs": [
    {
     "name": "stdout",
     "output_type": "stream",
     "text": [
      "Blobs in gcp-public-data-landsat:\n",
      "\tLC08/01/001/002/LC08_L1GT_001002_20160817_20170322_01_T2/LC08_L1GT_001002_20160817_20170322_01_T2_ANG.txt\n",
      "\tLC08/01/001/002/LC08_L1GT_001002_20160817_20170322_01_T2/LC08_L1GT_001002_20160817_20170322_01_T2_B1.TIF\n",
      "\tLC08/01/001/002/LC08_L1GT_001002_20160817_20170322_01_T2/LC08_L1GT_001002_20160817_20170322_01_T2_B10.TIF\n",
      "\tLC08/01/001/002/LC08_L1GT_001002_20160817_20170322_01_T2/LC08_L1GT_001002_20160817_20170322_01_T2_B11.TIF\n",
      "\tLC08/01/001/002/LC08_L1GT_001002_20160817_20170322_01_T2/LC08_L1GT_001002_20160817_20170322_01_T2_B2.TIF\n",
      "\tLC08/01/001/002/LC08_L1GT_001002_20160817_20170322_01_T2/LC08_L1GT_001002_20160817_20170322_01_T2_B3.TIF\n",
      "\tLC08/01/001/002/LC08_L1GT_001002_20160817_20170322_01_T2/LC08_L1GT_001002_20160817_20170322_01_T2_B4.TIF\n",
      "\tLC08/01/001/002/LC08_L1GT_001002_20160817_20170322_01_T2/LC08_L1GT_001002_20160817_20170322_01_T2_B5.TIF\n",
      "\tLC08/01/001/002/LC08_L1GT_001002_20160817_20170322_01_T2/LC08_L1GT_001002_20160817_20170322_01_T2_B6.TIF\n",
      "\tLC08/01/001/002/LC08_L1GT_001002_20160817_20170322_01_T2/LC08_L1GT_001002_20160817_20170322_01_T2_B7.TIF\n",
      "\tLC08/01/001/002/LC08_L1GT_001002_20160817_20170322_01_T2/LC08_L1GT_001002_20160817_20170322_01_T2_B8.TIF\n",
      "\tLC08/01/001/002/LC08_L1GT_001002_20160817_20170322_01_T2/LC08_L1GT_001002_20160817_20170322_01_T2_B9.TIF\n",
      "\tLC08/01/001/002/LC08_L1GT_001002_20160817_20170322_01_T2/LC08_L1GT_001002_20160817_20170322_01_T2_BQA.TIF\n",
      "\tLC08/01/001/002/LC08_L1GT_001002_20160817_20170322_01_T2/LC08_L1GT_001002_20160817_20170322_01_T2_MTL.txt\n",
      "\tLC08/01/001/002/LC08_L1GT_001002_20160902_20170321_01_T2/LC08_L1GT_001002_20160902_20170321_01_T2_ANG.txt\n",
      "\tLC08/01/001/002/LC08_L1GT_001002_20160902_20170321_01_T2/LC08_L1GT_001002_20160902_20170321_01_T2_B1.TIF\n",
      "\tLC08/01/001/002/LC08_L1GT_001002_20160902_20170321_01_T2/LC08_L1GT_001002_20160902_20170321_01_T2_B10.TIF\n",
      "\tLC08/01/001/002/LC08_L1GT_001002_20160902_20170321_01_T2/LC08_L1GT_001002_20160902_20170321_01_T2_B11.TIF\n",
      "\tLC08/01/001/002/LC08_L1GT_001002_20160902_20170321_01_T2/LC08_L1GT_001002_20160902_20170321_01_T2_B2.TIF\n",
      "\tLC08/01/001/002/LC08_L1GT_001002_20160902_20170321_01_T2/LC08_L1GT_001002_20160902_20170321_01_T2_B3.TIF\n",
      "\tLC08/01/001/002/LC08_L1GT_001002_20160902_20170321_01_T2/LC08_L1GT_001002_20160902_20170321_01_T2_B4.TIF\n",
      "\tLC08/01/001/002/LC08_L1GT_001002_20160902_20170321_01_T2/LC08_L1GT_001002_20160902_20170321_01_T2_B5.TIF\n",
      "\tLC08/01/001/002/LC08_L1GT_001002_20160902_20170321_01_T2/LC08_L1GT_001002_20160902_20170321_01_T2_B6.TIF\n",
      "\tLC08/01/001/002/LC08_L1GT_001002_20160902_20170321_01_T2/LC08_L1GT_001002_20160902_20170321_01_T2_B7.TIF\n",
      "\tLC08/01/001/002/LC08_L1GT_001002_20160902_20170321_01_T2/LC08_L1GT_001002_20160902_20170321_01_T2_B8.TIF\n",
      "\tLC08/01/001/002/LC08_L1GT_001002_20160902_20170321_01_T2/LC08_L1GT_001002_20160902_20170321_01_T2_B9.TIF\n",
      "\tLC08/01/001/002/LC08_L1GT_001002_20160902_20170321_01_T2/LC08_L1GT_001002_20160902_20170321_01_T2_BQA.TIF\n",
      "\tLC08/01/001/002/LC08_L1GT_001002_20160902_20170321_01_T2/LC08_L1GT_001002_20160902_20170321_01_T2_MTL.txt\n",
      "\tLC08/01/001/002/LC08_L1GT_001002_20160902_20170321_01_T2_$folder$\n",
      "\tLC08/01/001/002/LC08_L1GT_001002_20160918_20170321_01_T2/LC08_L1GT_001002_20160918_20170321_01_T2_ANG.txt\n",
      "\tLC08/01/001/002/LC08_L1GT_001002_20160918_20170321_01_T2/LC08_L1GT_001002_20160918_20170321_01_T2_B1.TIF\n",
      "\tLC08/01/001/002/LC08_L1GT_001002_20160918_20170321_01_T2/LC08_L1GT_001002_20160918_20170321_01_T2_B10.TIF\n",
      "\tLC08/01/001/002/LC08_L1GT_001002_20160918_20170321_01_T2/LC08_L1GT_001002_20160918_20170321_01_T2_B11.TIF\n",
      "\tLC08/01/001/002/LC08_L1GT_001002_20160918_20170321_01_T2/LC08_L1GT_001002_20160918_20170321_01_T2_B2.TIF\n",
      "\tLC08/01/001/002/LC08_L1GT_001002_20160918_20170321_01_T2/LC08_L1GT_001002_20160918_20170321_01_T2_B3.TIF\n",
      "\tLC08/01/001/002/LC08_L1GT_001002_20160918_20170321_01_T2/LC08_L1GT_001002_20160918_20170321_01_T2_B4.TIF\n",
      "\tLC08/01/001/002/LC08_L1GT_001002_20160918_20170321_01_T2/LC08_L1GT_001002_20160918_20170321_01_T2_B5.TIF\n",
      "\tLC08/01/001/002/LC08_L1GT_001002_20160918_20170321_01_T2/LC08_L1GT_001002_20160918_20170321_01_T2_B6.TIF\n",
      "\tLC08/01/001/002/LC08_L1GT_001002_20160918_20170321_01_T2/LC08_L1GT_001002_20160918_20170321_01_T2_B7.TIF\n",
      "\tLC08/01/001/002/LC08_L1GT_001002_20160918_20170321_01_T2/LC08_L1GT_001002_20160918_20170321_01_T2_B8.TIF\n",
      "\tLC08/01/001/002/LC08_L1GT_001002_20160918_20170321_01_T2/LC08_L1GT_001002_20160918_20170321_01_T2_B9.TIF\n",
      "\tLC08/01/001/002/LC08_L1GT_001002_20160918_20170321_01_T2/LC08_L1GT_001002_20160918_20170321_01_T2_BQA.TIF\n",
      "\tLC08/01/001/002/LC08_L1GT_001002_20160918_20170321_01_T2/LC08_L1GT_001002_20160918_20170321_01_T2_MTL.txt\n",
      "\tLC08/01/001/002/LC08_L1GT_001002_20160918_20170321_01_T2_$folder$\n",
      "\tLC08/01/001/002_$folder$\n",
      "\tLC08/01/001/003/LC08_L1GT_001003_20130323_20170505_01_T2/LC08_L1GT_001003_20130323_20170505_01_T2_ANG.txt\n",
      "\tLC08/01/001/003/LC08_L1GT_001003_20130323_20170505_01_T2/LC08_L1GT_001003_20130323_20170505_01_T2_B1.TIF\n",
      "\tLC08/01/001/003/LC08_L1GT_001003_20130323_20170505_01_T2/LC08_L1GT_001003_20130323_20170505_01_T2_B10.TIF\n",
      "\tLC08/01/001/003/LC08_L1GT_001003_20130323_20170505_01_T2/LC08_L1GT_001003_20130323_20170505_01_T2_B11.TIF\n",
      "\tLC08/01/001/003/LC08_L1GT_001003_20130323_20170505_01_T2/LC08_L1GT_001003_20130323_20170505_01_T2_B2.TIF\n",
      "\tLC08/01/001/003/LC08_L1GT_001003_20130323_20170505_01_T2/LC08_L1GT_001003_20130323_20170505_01_T2_B3.TIF\n"
     ]
    }
   ],
   "source": [
    "blobs = bucket.list_blobs()\n",
    "\n",
    "print(\"Blobs in {}:\".format(bucket.name))\n",
    "for ix, item in enumerate(blobs):\n",
    "    print(\"\\t\" + item.name)\n",
    "    if ix == 50:\n",
    "        break"
   ]
  },
  {
   "cell_type": "markdown",
   "metadata": {},
   "source": [
    "Get a blob and display metadata:"
   ]
  },
  {
   "cell_type": "code",
   "execution_count": 25,
   "metadata": {},
   "outputs": [
    {
     "name": "stdout",
     "output_type": "stream",
     "text": [
      "Name: gcp-public-data-landsat/LC08/01/001/002/LC08_L1GT_001002_20160817_20170322_01_T2/LC08_L1GT_001002_20160817_20170322_01_T2_B1.TIF/1502391058568908\n",
      "Size: 75085385 bytes\n",
      "Content type: application/octet-stream\n",
      "Public URL: https://storage.googleapis.com/gcp-public-data-landsat/LC08/01/001/002/LC08_L1GT_001002_20160817_20170322_01_T2/LC08_L1GT_001002_20160817_20170322_01_T2_B1.TIF\n"
     ]
    }
   ],
   "source": [
    "blob = bucket.get_blob(\"LC08/01/001/002/LC08_L1GT_001002_20160817_20170322_01_T2/LC08_L1GT_001002_20160817_20170322_01_T2_B1.TIF\")\n",
    "\n",
    "print(\"Name: {}\".format(blob.id))\n",
    "print(\"Size: {} bytes\".format(blob.size))\n",
    "print(\"Content type: {}\".format(blob.content_type))\n",
    "print(\"Public URL: {}\".format(blob.public_url))"
   ]
  },
  {
   "cell_type": "markdown",
   "metadata": {},
   "source": [
    "Download a blob to a local directory:"
   ]
  },
  {
   "cell_type": "code",
   "execution_count": 26,
   "metadata": {},
   "outputs": [
    {
     "name": "stdout",
     "output_type": "stream",
     "text": [
      "Downloaded blob LC08/01/001/002/LC08_L1GT_001002_20160817_20170322_01_T2/LC08_L1GT_001002_20160817_20170322_01_T2_B1.TIF to ../output/LC08_L1GT_001002_20160817_20170322_01_T2_B1.TIF.\n"
     ]
    }
   ],
   "source": [
    "output_file_name = \"../output/LC08_L1GT_001002_20160817_20170322_01_T2_B1.TIF\"\n",
    "blob.download_to_filename(output_file_name)\n",
    "\n",
    "print(\"Downloaded blob {} to {}.\".format(blob.name, output_file_name))"
   ]
  },
  {
   "cell_type": "code",
   "execution_count": null,
   "metadata": {},
   "outputs": [],
   "source": []
  }
 ],
 "metadata": {
  "kernelspec": {
   "display_name": "bde",
   "language": "python",
   "name": "python3"
  },
  "language_info": {
   "codemirror_mode": {
    "name": "ipython",
    "version": 3
   },
   "file_extension": ".py",
   "mimetype": "text/x-python",
   "name": "python",
   "nbconvert_exporter": "python",
   "pygments_lexer": "ipython3",
   "version": "3.10.13"
  },
  "orig_nbformat": 4
 },
 "nbformat": 4,
 "nbformat_minor": 2
}
